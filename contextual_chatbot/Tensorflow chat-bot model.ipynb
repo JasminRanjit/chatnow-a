{
 "cells": [
  {
   "cell_type": "code",
   "execution_count": 1,
   "metadata": {},
   "outputs": [
    {
     "name": "stderr",
     "output_type": "stream",
     "text": [
      "C:\\Users\\davee\\Anaconda3\\lib\\site-packages\\h5py\\__init__.py:36: FutureWarning: Conversion of the second argument of issubdtype from `float` to `np.floating` is deprecated. In future, it will be treated as `np.float64 == np.dtype(float).type`.\n",
      "  from ._conv import register_converters as _register_converters\n"
     ]
    }
   ],
   "source": [
    "# things we need for NLP\n",
    "import nltk\n",
    "from nltk.stem.lancaster import LancasterStemmer\n",
    "stemmer = LancasterStemmer()\n",
    "\n",
    "# things we need for Tensorflow\n",
    "import numpy as np\n",
    "import tensorflow as tf\n",
    "import tflearn\n",
    "import random"
   ]
  },
  {
   "cell_type": "code",
   "execution_count": 2,
   "metadata": {},
   "outputs": [],
   "source": [
    "# import our chat-bot intents file\n",
    "import json\n",
    "with open('faq_intents_updated.json') as json_data:\n",
    "    intents = json.load(json_data)"
   ]
  },
  {
   "cell_type": "code",
   "execution_count": 3,
   "metadata": {},
   "outputs": [
    {
     "name": "stdout",
     "output_type": "stream",
     "text": [
      "128 documents\n",
      "120 classes ['10', '100', '101', '102', '103', '104', '105', '106', '107', '108', '109', '11', '110', '111', '112', '113', '114', '115', '116', '12', '13', '14', '15', '16', '17', '18', '19', '20', '21', '22', '23', '24', '25', '26', '27', '28', '29', '3', '30', '31', '32', '33', '34', '35', '36', '37', '38', '39', '4', '40', '41', '42', '43', '44', '45', '46', '47', '48', '49', '5', '50', '51', '52', '53', '54', '55', '56', '57', '58', '59', '6', '60', '61', '62', '63', '64', '65', '66', '67', '68', '69', '7', '70', '71', '72', '73', '74', '75', '76', '77', '78', '79', '8', '80', '81', '82', '83', '84', '85', '86', '87', '88', '89', '9', '90', '91', '92', '93', '94', '95', '96', '97', '98', '99', 'costCreditScore', 'creditHistory', 'goodbye', 'greeting', 'thanks', 'website']\n",
      "281 unique stemmed words ['$', \"''\", \"'s\", ',', '.', '/', '457', '5,000', '9', '``', 'a', 'abl', 'about', 'acceiv', 'access', 'account', 'accredit', 'addit', 'address', 'advert', 'affect', 'aft', 'ag', 'agr', 'agree', 'al', 'am', 'amount', 'an', 'and', 'and/or', 'anoth', 'any', 'anyon', 'apply', 'approv', 'ar', 'artic', 'as', 'ask', 'assist', 'at', 'bad', 'bal', 'bank', 'bankrupt', 'bas', 'be', 'becom', 'been', 'bef', 'being', 'benefit', 'best', 'between', 'branch', 'brok', 'brows', 'busy', 'buy', 'bye', 'ca', 'can', 'car', 'card', 'cas', 'cent', 'centrelink', 'check', 'child', 'choos', 'company', 'comparison', 'competit', 'consolid', 'cont', 'contact', 'cost', 'coupl', 'credit', 'cur', 'custom', 'day', 'debit', 'debt', 'dent', 'deposit', 'detail', 'did', 'diff', 'direct', 'dis', 'do', 'docu', 'doe', 'doing', 'driv', 'ear', 'elig', 'email', 'employ', 'enquiry', 'est', 'everyon', 'exit', 'expens', 'extr', 'fast', 'fee', 'fig', 'fil', 'fin', 'find', 'fix', 'for', 'fortnight', 'from', 'ful', 'full-time/', 'fund', 'get', 'giv', 'good', 'goodby', 'guar', 'had', 'hap', 'has', 'hav', 'hello', 'help', 'her', 'hi', 'high', 'hist', 'hom', 'hous', 'household', 'how', 'i', 'i.d', 'if', 'impact', 'improv', 'in', 'inst', 'instead', 'interest', 'into', 'involv', 'is', 'it', 'item', 'ix', 'job', 'joint', 'just', 'keep', 'know', 'knowledg', 'langu', 'lat', 'less', 'lev', 'lic', 'licens', 'liv', 'loan', 'loans/lending', 'long', 'look', 'low', 'mak', 'marry', 'me', 'med', 'might', 'money', 'multipl', 'my', \"n't\", 'nee', 'negoty', 'new', 'not', 'now', 'of', 'off', 'oft', 'on', 'onlin', 'ont', 'opt', 'or', 'oth', 'out', 'oversea', 'own', 'par', 'part', 'part-time', 'passport', 'pay', 'payout', 'payslip', 'pend', 'peopl', 'person', 'port', 'post', 'prevy', 'process', 'proof', 'prop', 'provid', 'publ', 'purpos', 'quest', 'rat', 'receiv', 'refin', 'regul', 'renov', 'repay', 'report', 'resid', 'saf', 'sam', 'scor', 'sec', 'sect', 'see', 'self-employed', 'send', 'should', 'show', 'singl', 'smal', 'so', 'someon', 'start', 'stat', 'support', 'system', 'tak', 'temp', 'term', 'than', 'thank', 'that', 'the', 'ther', 'thes', 'they', 'thi', 'thre', 'tim', 'to', 'track', 'typ', 'und', 'unsec', 'upd', 'us', 'vary', 'ver', 'via', 'vis', 'visit', 'want', 'we', 'websit', 'wed', 'week', 'what', 'who', 'why', 'wil', 'with', 'yo', 'you']\n"
     ]
    }
   ],
   "source": [
    "words = []\n",
    "classes = []\n",
    "documents = []\n",
    "ignore_words = ['?']\n",
    "# loop through each sentence in our intents patterns\n",
    "for intent in intents['intents']:\n",
    "    for pattern in intent['patterns']:\n",
    "        # tokenize each word in the sentence\n",
    "        w = nltk.word_tokenize(pattern)\n",
    "        # add to our words list\n",
    "        words.extend(w)\n",
    "        # add to documents in our corpus\n",
    "        documents.append((w, intent['tag']))\n",
    "        # add to our classes list\n",
    "        if intent['tag'] not in classes:\n",
    "            classes.append(intent['tag'])\n",
    "\n",
    "# stem and lower each word and remove duplicates\n",
    "words = [stemmer.stem(w.lower()) for w in words if w not in ignore_words]\n",
    "words = sorted(list(set(words)))\n",
    "\n",
    "# remove duplicates\n",
    "classes = sorted(list(set(classes)))\n",
    "\n",
    "print (len(documents), \"documents\")\n",
    "print (len(classes), \"classes\", classes)\n",
    "print (len(words), \"unique stemmed words\", words)"
   ]
  },
  {
   "cell_type": "code",
   "execution_count": 4,
   "metadata": {},
   "outputs": [],
   "source": [
    "# create our training data\n",
    "training = []\n",
    "output = []\n",
    "# create an empty array for our output\n",
    "output_empty = [0] * len(classes)\n",
    "\n",
    "# training set, bag of words for each sentence\n",
    "for doc in documents:\n",
    "    # initialize our bag of words\n",
    "    bag = []\n",
    "    # list of tokenized words for the pattern\n",
    "    pattern_words = doc[0]\n",
    "    # stem each word\n",
    "    pattern_words = [stemmer.stem(word.lower()) for word in pattern_words]\n",
    "    # create our bag of words array\n",
    "    for w in words:\n",
    "        bag.append(1) if w in pattern_words else bag.append(0)\n",
    "\n",
    "    # output is a '0' for each tag and '1' for current tag\n",
    "    output_row = list(output_empty)\n",
    "    output_row[classes.index(doc[1])] = 1\n",
    "\n",
    "    training.append([bag, output_row])\n",
    "\n",
    "# shuffle our features and turn into np.array\n",
    "random.shuffle(training)\n",
    "training = np.array(training)\n",
    "\n",
    "# create train and test lists\n",
    "train_x = list(training[:,0])\n",
    "train_y = list(training[:,1])"
   ]
  },
  {
   "cell_type": "code",
   "execution_count": 5,
   "metadata": {
    "scrolled": true
   },
   "outputs": [
    {
     "name": "stdout",
     "output_type": "stream",
     "text": [
      "Training Step: 7999  | total loss: \u001b[1m\u001b[32m0.11335\u001b[0m\u001b[0m | time: 0.023s\n",
      "| Adam | epoch: 1000 | loss: 0.11335 - acc: 0.9728 -- iter: 112/128\n",
      "Training Step: 8000  | total loss: \u001b[1m\u001b[32m0.10724\u001b[0m\u001b[0m | time: 0.026s\n",
      "| Adam | epoch: 1000 | loss: 0.10724 - acc: 0.9755 -- iter: 128/128\n",
      "--\n",
      "INFO:tensorflow:D:\\python_projects\\chatbot\\contextual_chatbot\\model.tflearn is not in all_model_checkpoint_paths. Manually adding it.\n"
     ]
    }
   ],
   "source": [
    "# reset underlying graph data\n",
    "tf.reset_default_graph()\n",
    "# Build neural network\n",
    "net = tflearn.input_data(shape=[None, len(train_x[0])])\n",
    "net = tflearn.fully_connected(net, 32)\n",
    "net = tflearn.fully_connected(net, 32)\n",
    "net = tflearn.fully_connected(net, len(train_y[0]), activation='softmax')\n",
    "net = tflearn.regression(net)\n",
    "\n",
    "# Define model and setup tensorboard\n",
    "model = tflearn.DNN(net, tensorboard_dir='tflearn_logs')\n",
    "# Start training (apply gradient descent algorithm)\n",
    "model.fit(train_x, train_y, n_epoch=1000, batch_size=16, show_metric=True)\n",
    "model.save('model.tflearn')"
   ]
  },
  {
   "cell_type": "code",
   "execution_count": 10,
   "metadata": {},
   "outputs": [],
   "source": [
    "def clean_up_sentence(sentence):\n",
    "    # tokenize the pattern\n",
    "    sentence_words = nltk.word_tokenize(sentence)\n",
    "    # stem each word\n",
    "    sentence_words = [stemmer.stem(word.lower()) for word in sentence_words]\n",
    "    return sentence_words\n",
    "\n",
    "# return bag of words array: 0 or 1 for each word in the bag that exists in the sentence\n",
    "def bow(sentence, words, show_details=False):\n",
    "    # tokenize the pattern\n",
    "    sentence_words = clean_up_sentence(sentence)\n",
    "    # bag of words\n",
    "    bag = [0]*len(words)  \n",
    "    for s in sentence_words:\n",
    "        for i,w in enumerate(words):\n",
    "            if w == s: \n",
    "                bag[i] = 1\n",
    "                if show_details:\n",
    "                    print (\"found in bag: %s\" % w)\n",
    "\n",
    "    return(np.array(bag))"
   ]
  },
  {
   "cell_type": "code",
   "execution_count": 11,
   "metadata": {},
   "outputs": [
    {
     "name": "stdout",
     "output_type": "stream",
     "text": [
      "[0 0 0 0 0 0 0 0 0 0 0 0 0 0 0 0 0 0 0 0 0 0 0 0 0 0 0 0 0 0 0 0 0 0 0 0 0\n",
      " 0 0 0 0 0 0 0 0 0 0 0 0 0 0 0 0 0 0 0 0 0 0 0 0 0 0 0 0 0 0 0 0 0 0 0 0 0\n",
      " 0 0 0 0 0 0 0 0 0 0 0 0 0 0 0 0 0 0 0 0 0 0 0 0 0 0 0 0 0 0 0 0 0 0 0 0 0\n",
      " 0 0 0 0 0 0 0 0 0 0 0 0 0 0 0 0 0 0 0 0 0 0 0 0 0 0 0 0 0 0 0 0 0 0 0 0 0\n",
      " 0 0 1 0 0 0 0 0 0 0 0 0 0 0 0 0 0 0 0 0 0 0 0 0 0 0 0 0 0 0 0 0 0 0 0 0 0\n",
      " 0 0 0 0 0 0 0 0 0 0 0 0 0 0 0 0 0 0 0 0 0 0 0 0 0 0 0 0 0 0 0 0 0 0 0 0 0\n",
      " 0 0 0 0 0 0 0 0 0 0 0 0 0 0 0 0 0 0 0 0 0 0 0 0 0 0 0 0 0 0 0 0 0 0 0 0 0\n",
      " 0 0 0 0 0 0 0 0 0 0 0 0 0 0 0 0 0 0 0 0 1 0]\n",
      "['10', '100', '101', '102', '103', '104', '105', '106', '107', '108', '109', '11', '110', '111', '112', '113', '114', '115', '116', '12', '13', '14', '15', '16', '17', '18', '19', '20', '21', '22', '23', '24', '25', '26', '27', '28', '29', '3', '30', '31', '32', '33', '34', '35', '36', '37', '38', '39', '4', '40', '41', '42', '43', '44', '45', '46', '47', '48', '49', '5', '50', '51', '52', '53', '54', '55', '56', '57', '58', '59', '6', '60', '61', '62', '63', '64', '65', '66', '67', '68', '69', '7', '70', '71', '72', '73', '74', '75', '76', '77', '78', '79', '8', '80', '81', '82', '83', '84', '85', '86', '87', '88', '89', '9', '90', '91', '92', '93', '94', '95', '96', '97', '98', '99', 'costCreditScore', 'creditHistory', 'goodbye', 'greeting', 'thanks', 'website']\n"
     ]
    }
   ],
   "source": [
    "p = bow(\"is your shop open today?\", words)\n",
    "print (p)\n",
    "print (classes)"
   ]
  },
  {
   "cell_type": "code",
   "execution_count": 8,
   "metadata": {},
   "outputs": [
    {
     "name": "stdout",
     "output_type": "stream",
     "text": [
      "[[0.01481156 0.02606679 0.00155565 0.01118536 0.00590372 0.00669228\n",
      "  0.00093644 0.00118446 0.0009549  0.00081603 0.00723097 0.00185447\n",
      "  0.0020542  0.00440503 0.01306961 0.00182591 0.00250552 0.007001\n",
      "  0.01570369 0.00432007 0.00321656 0.00319743 0.0022572  0.02796309\n",
      "  0.00852828 0.00610971 0.00289167 0.00179479 0.03059441 0.0017956\n",
      "  0.00063194 0.02474292 0.00188278 0.00513768 0.0101705  0.00440387\n",
      "  0.00809996 0.00088652 0.01079845 0.04925173 0.00236982 0.0076829\n",
      "  0.00265922 0.00808473 0.00570889 0.00400215 0.00680367 0.01176655\n",
      "  0.02175568 0.00351316 0.00343306 0.00099192 0.03438316 0.00566155\n",
      "  0.00065926 0.00074435 0.00156508 0.00832178 0.03068247 0.00097154\n",
      "  0.00111672 0.0098298  0.00840074 0.00112293 0.00324667 0.00217173\n",
      "  0.00939655 0.00345174 0.01850244 0.01173762 0.00453854 0.00059967\n",
      "  0.0056277  0.00212203 0.01640097 0.00295871 0.0023586  0.00386523\n",
      "  0.04341481 0.03985395 0.01897544 0.00401148 0.00138277 0.01003911\n",
      "  0.00026997 0.00176529 0.00195094 0.00141963 0.00270822 0.00045428\n",
      "  0.00228683 0.00108228 0.02844627 0.00043388 0.00077136 0.00063099\n",
      "  0.00104527 0.00045473 0.00127929 0.00233715 0.00037249 0.0027896\n",
      "  0.00306994 0.00261703 0.00142537 0.00154296 0.00144998 0.00383561\n",
      "  0.00447056 0.00366065 0.00138647 0.00544488 0.00047734 0.00046656\n",
      "  0.00270319 0.01924584 0.06521498 0.07760201 0.02451664 0.00905174]]\n"
     ]
    }
   ],
   "source": [
    "print(model.predict([p]))"
   ]
  },
  {
   "cell_type": "code",
   "execution_count": 12,
   "metadata": {},
   "outputs": [],
   "source": [
    "# save all of our data structures\n",
    "import pickle\n",
    "pickle.dump( {'words':words, 'classes':classes, 'train_x':train_x, 'train_y':train_y}, open( \"training_data\", \"wb\" ) )"
   ]
  }
 ],
 "metadata": {
  "kernelspec": {
   "display_name": "Python [default]",
   "language": "python",
   "name": "python3"
  },
  "language_info": {
   "codemirror_mode": {
    "name": "ipython",
    "version": 3
   },
   "file_extension": ".py",
   "mimetype": "text/x-python",
   "name": "python",
   "nbconvert_exporter": "python",
   "pygments_lexer": "ipython3",
   "version": "3.6.4"
  }
 },
 "nbformat": 4,
 "nbformat_minor": 1
}
